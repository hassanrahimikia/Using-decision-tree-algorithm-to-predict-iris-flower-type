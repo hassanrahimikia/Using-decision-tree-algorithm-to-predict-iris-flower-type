{
 "cells": [
  {
   "cell_type": "markdown",
   "id": "412c014c",
   "metadata": {},
   "source": [
    "<div dir=\"rtl\">\n",
    "کار بر روی مجموعه داده معروف گل irisانجام میشود\n",
    "\n",
    "و از الگوریتم decision Tree استفاده می کنیم\n",
    "<div>"
   ]
  },
  {
   "cell_type": "markdown",
   "id": "7da0b56a",
   "metadata": {},
   "source": [
    "![iris flower](data:image/jpeg;base64,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)"
   ]
  },
  {
   "cell_type": "code",
   "execution_count": 25,
   "id": "72310073",
   "metadata": {},
   "outputs": [],
   "source": [
    "import sklearn.datasets as datasets\n",
    "import pandas as pd"
   ]
  },
  {
   "cell_type": "code",
   "execution_count": 26,
   "id": "246d0116",
   "metadata": {},
   "outputs": [
    {
     "data": {
      "text/plain": [
       "{'data': array([[5.1, 3.5, 1.4, 0.2],\n",
       "        [4.9, 3. , 1.4, 0.2],\n",
       "        [4.7, 3.2, 1.3, 0.2],\n",
       "        [4.6, 3.1, 1.5, 0.2],\n",
       "        [5. , 3.6, 1.4, 0.2],\n",
       "        [5.4, 3.9, 1.7, 0.4],\n",
       "        [4.6, 3.4, 1.4, 0.3],\n",
       "        [5. , 3.4, 1.5, 0.2],\n",
       "        [4.4, 2.9, 1.4, 0.2],\n",
       "        [4.9, 3.1, 1.5, 0.1],\n",
       "        [5.4, 3.7, 1.5, 0.2],\n",
       "        [4.8, 3.4, 1.6, 0.2],\n",
       "        [4.8, 3. , 1.4, 0.1],\n",
       "        [4.3, 3. , 1.1, 0.1],\n",
       "        [5.8, 4. , 1.2, 0.2],\n",
       "        [5.7, 4.4, 1.5, 0.4],\n",
       "        [5.4, 3.9, 1.3, 0.4],\n",
       "        [5.1, 3.5, 1.4, 0.3],\n",
       "        [5.7, 3.8, 1.7, 0.3],\n",
       "        [5.1, 3.8, 1.5, 0.3],\n",
       "        [5.4, 3.4, 1.7, 0.2],\n",
       "        [5.1, 3.7, 1.5, 0.4],\n",
       "        [4.6, 3.6, 1. , 0.2],\n",
       "        [5.1, 3.3, 1.7, 0.5],\n",
       "        [4.8, 3.4, 1.9, 0.2],\n",
       "        [5. , 3. , 1.6, 0.2],\n",
       "        [5. , 3.4, 1.6, 0.4],\n",
       "        [5.2, 3.5, 1.5, 0.2],\n",
       "        [5.2, 3.4, 1.4, 0.2],\n",
       "        [4.7, 3.2, 1.6, 0.2],\n",
       "        [4.8, 3.1, 1.6, 0.2],\n",
       "        [5.4, 3.4, 1.5, 0.4],\n",
       "        [5.2, 4.1, 1.5, 0.1],\n",
       "        [5.5, 4.2, 1.4, 0.2],\n",
       "        [4.9, 3.1, 1.5, 0.2],\n",
       "        [5. , 3.2, 1.2, 0.2],\n",
       "        [5.5, 3.5, 1.3, 0.2],\n",
       "        [4.9, 3.6, 1.4, 0.1],\n",
       "        [4.4, 3. , 1.3, 0.2],\n",
       "        [5.1, 3.4, 1.5, 0.2],\n",
       "        [5. , 3.5, 1.3, 0.3],\n",
       "        [4.5, 2.3, 1.3, 0.3],\n",
       "        [4.4, 3.2, 1.3, 0.2],\n",
       "        [5. , 3.5, 1.6, 0.6],\n",
       "        [5.1, 3.8, 1.9, 0.4],\n",
       "        [4.8, 3. , 1.4, 0.3],\n",
       "        [5.1, 3.8, 1.6, 0.2],\n",
       "        [4.6, 3.2, 1.4, 0.2],\n",
       "        [5.3, 3.7, 1.5, 0.2],\n",
       "        [5. , 3.3, 1.4, 0.2],\n",
       "        [7. , 3.2, 4.7, 1.4],\n",
       "        [6.4, 3.2, 4.5, 1.5],\n",
       "        [6.9, 3.1, 4.9, 1.5],\n",
       "        [5.5, 2.3, 4. , 1.3],\n",
       "        [6.5, 2.8, 4.6, 1.5],\n",
       "        [5.7, 2.8, 4.5, 1.3],\n",
       "        [6.3, 3.3, 4.7, 1.6],\n",
       "        [4.9, 2.4, 3.3, 1. ],\n",
       "        [6.6, 2.9, 4.6, 1.3],\n",
       "        [5.2, 2.7, 3.9, 1.4],\n",
       "        [5. , 2. , 3.5, 1. ],\n",
       "        [5.9, 3. , 4.2, 1.5],\n",
       "        [6. , 2.2, 4. , 1. ],\n",
       "        [6.1, 2.9, 4.7, 1.4],\n",
       "        [5.6, 2.9, 3.6, 1.3],\n",
       "        [6.7, 3.1, 4.4, 1.4],\n",
       "        [5.6, 3. , 4.5, 1.5],\n",
       "        [5.8, 2.7, 4.1, 1. ],\n",
       "        [6.2, 2.2, 4.5, 1.5],\n",
       "        [5.6, 2.5, 3.9, 1.1],\n",
       "        [5.9, 3.2, 4.8, 1.8],\n",
       "        [6.1, 2.8, 4. , 1.3],\n",
       "        [6.3, 2.5, 4.9, 1.5],\n",
       "        [6.1, 2.8, 4.7, 1.2],\n",
       "        [6.4, 2.9, 4.3, 1.3],\n",
       "        [6.6, 3. , 4.4, 1.4],\n",
       "        [6.8, 2.8, 4.8, 1.4],\n",
       "        [6.7, 3. , 5. , 1.7],\n",
       "        [6. , 2.9, 4.5, 1.5],\n",
       "        [5.7, 2.6, 3.5, 1. ],\n",
       "        [5.5, 2.4, 3.8, 1.1],\n",
       "        [5.5, 2.4, 3.7, 1. ],\n",
       "        [5.8, 2.7, 3.9, 1.2],\n",
       "        [6. , 2.7, 5.1, 1.6],\n",
       "        [5.4, 3. , 4.5, 1.5],\n",
       "        [6. , 3.4, 4.5, 1.6],\n",
       "        [6.7, 3.1, 4.7, 1.5],\n",
       "        [6.3, 2.3, 4.4, 1.3],\n",
       "        [5.6, 3. , 4.1, 1.3],\n",
       "        [5.5, 2.5, 4. , 1.3],\n",
       "        [5.5, 2.6, 4.4, 1.2],\n",
       "        [6.1, 3. , 4.6, 1.4],\n",
       "        [5.8, 2.6, 4. , 1.2],\n",
       "        [5. , 2.3, 3.3, 1. ],\n",
       "        [5.6, 2.7, 4.2, 1.3],\n",
       "        [5.7, 3. , 4.2, 1.2],\n",
       "        [5.7, 2.9, 4.2, 1.3],\n",
       "        [6.2, 2.9, 4.3, 1.3],\n",
       "        [5.1, 2.5, 3. , 1.1],\n",
       "        [5.7, 2.8, 4.1, 1.3],\n",
       "        [6.3, 3.3, 6. , 2.5],\n",
       "        [5.8, 2.7, 5.1, 1.9],\n",
       "        [7.1, 3. , 5.9, 2.1],\n",
       "        [6.3, 2.9, 5.6, 1.8],\n",
       "        [6.5, 3. , 5.8, 2.2],\n",
       "        [7.6, 3. , 6.6, 2.1],\n",
       "        [4.9, 2.5, 4.5, 1.7],\n",
       "        [7.3, 2.9, 6.3, 1.8],\n",
       "        [6.7, 2.5, 5.8, 1.8],\n",
       "        [7.2, 3.6, 6.1, 2.5],\n",
       "        [6.5, 3.2, 5.1, 2. ],\n",
       "        [6.4, 2.7, 5.3, 1.9],\n",
       "        [6.8, 3. , 5.5, 2.1],\n",
       "        [5.7, 2.5, 5. , 2. ],\n",
       "        [5.8, 2.8, 5.1, 2.4],\n",
       "        [6.4, 3.2, 5.3, 2.3],\n",
       "        [6.5, 3. , 5.5, 1.8],\n",
       "        [7.7, 3.8, 6.7, 2.2],\n",
       "        [7.7, 2.6, 6.9, 2.3],\n",
       "        [6. , 2.2, 5. , 1.5],\n",
       "        [6.9, 3.2, 5.7, 2.3],\n",
       "        [5.6, 2.8, 4.9, 2. ],\n",
       "        [7.7, 2.8, 6.7, 2. ],\n",
       "        [6.3, 2.7, 4.9, 1.8],\n",
       "        [6.7, 3.3, 5.7, 2.1],\n",
       "        [7.2, 3.2, 6. , 1.8],\n",
       "        [6.2, 2.8, 4.8, 1.8],\n",
       "        [6.1, 3. , 4.9, 1.8],\n",
       "        [6.4, 2.8, 5.6, 2.1],\n",
       "        [7.2, 3. , 5.8, 1.6],\n",
       "        [7.4, 2.8, 6.1, 1.9],\n",
       "        [7.9, 3.8, 6.4, 2. ],\n",
       "        [6.4, 2.8, 5.6, 2.2],\n",
       "        [6.3, 2.8, 5.1, 1.5],\n",
       "        [6.1, 2.6, 5.6, 1.4],\n",
       "        [7.7, 3. , 6.1, 2.3],\n",
       "        [6.3, 3.4, 5.6, 2.4],\n",
       "        [6.4, 3.1, 5.5, 1.8],\n",
       "        [6. , 3. , 4.8, 1.8],\n",
       "        [6.9, 3.1, 5.4, 2.1],\n",
       "        [6.7, 3.1, 5.6, 2.4],\n",
       "        [6.9, 3.1, 5.1, 2.3],\n",
       "        [5.8, 2.7, 5.1, 1.9],\n",
       "        [6.8, 3.2, 5.9, 2.3],\n",
       "        [6.7, 3.3, 5.7, 2.5],\n",
       "        [6.7, 3. , 5.2, 2.3],\n",
       "        [6.3, 2.5, 5. , 1.9],\n",
       "        [6.5, 3. , 5.2, 2. ],\n",
       "        [6.2, 3.4, 5.4, 2.3],\n",
       "        [5.9, 3. , 5.1, 1.8]]),\n",
       " 'target': array([0, 0, 0, 0, 0, 0, 0, 0, 0, 0, 0, 0, 0, 0, 0, 0, 0, 0, 0, 0, 0, 0,\n",
       "        0, 0, 0, 0, 0, 0, 0, 0, 0, 0, 0, 0, 0, 0, 0, 0, 0, 0, 0, 0, 0, 0,\n",
       "        0, 0, 0, 0, 0, 0, 1, 1, 1, 1, 1, 1, 1, 1, 1, 1, 1, 1, 1, 1, 1, 1,\n",
       "        1, 1, 1, 1, 1, 1, 1, 1, 1, 1, 1, 1, 1, 1, 1, 1, 1, 1, 1, 1, 1, 1,\n",
       "        1, 1, 1, 1, 1, 1, 1, 1, 1, 1, 1, 1, 2, 2, 2, 2, 2, 2, 2, 2, 2, 2,\n",
       "        2, 2, 2, 2, 2, 2, 2, 2, 2, 2, 2, 2, 2, 2, 2, 2, 2, 2, 2, 2, 2, 2,\n",
       "        2, 2, 2, 2, 2, 2, 2, 2, 2, 2, 2, 2, 2, 2, 2, 2, 2, 2]),\n",
       " 'frame': None,\n",
       " 'target_names': array(['setosa', 'versicolor', 'virginica'], dtype='<U10'),\n",
       " 'DESCR': '.. _iris_dataset:\\n\\nIris plants dataset\\n--------------------\\n\\n**Data Set Characteristics:**\\n\\n    :Number of Instances: 150 (50 in each of three classes)\\n    :Number of Attributes: 4 numeric, predictive attributes and the class\\n    :Attribute Information:\\n        - sepal length in cm\\n        - sepal width in cm\\n        - petal length in cm\\n        - petal width in cm\\n        - class:\\n                - Iris-Setosa\\n                - Iris-Versicolour\\n                - Iris-Virginica\\n                \\n    :Summary Statistics:\\n\\n    ============== ==== ==== ======= ===== ====================\\n                    Min  Max   Mean    SD   Class Correlation\\n    ============== ==== ==== ======= ===== ====================\\n    sepal length:   4.3  7.9   5.84   0.83    0.7826\\n    sepal width:    2.0  4.4   3.05   0.43   -0.4194\\n    petal length:   1.0  6.9   3.76   1.76    0.9490  (high!)\\n    petal width:    0.1  2.5   1.20   0.76    0.9565  (high!)\\n    ============== ==== ==== ======= ===== ====================\\n\\n    :Missing Attribute Values: None\\n    :Class Distribution: 33.3% for each of 3 classes.\\n    :Creator: R.A. Fisher\\n    :Donor: Michael Marshall (MARSHALL%PLU@io.arc.nasa.gov)\\n    :Date: July, 1988\\n\\nThe famous Iris database, first used by Sir R.A. Fisher. The dataset is taken\\nfrom Fisher\\'s paper. Note that it\\'s the same as in R, but not as in the UCI\\nMachine Learning Repository, which has two wrong data points.\\n\\nThis is perhaps the best known database to be found in the\\npattern recognition literature.  Fisher\\'s paper is a classic in the field and\\nis referenced frequently to this day.  (See Duda & Hart, for example.)  The\\ndata set contains 3 classes of 50 instances each, where each class refers to a\\ntype of iris plant.  One class is linearly separable from the other 2; the\\nlatter are NOT linearly separable from each other.\\n\\n.. topic:: References\\n\\n   - Fisher, R.A. \"The use of multiple measurements in taxonomic problems\"\\n     Annual Eugenics, 7, Part II, 179-188 (1936); also in \"Contributions to\\n     Mathematical Statistics\" (John Wiley, NY, 1950).\\n   - Duda, R.O., & Hart, P.E. (1973) Pattern Classification and Scene Analysis.\\n     (Q327.D83) John Wiley & Sons.  ISBN 0-471-22361-1.  See page 218.\\n   - Dasarathy, B.V. (1980) \"Nosing Around the Neighborhood: A New System\\n     Structure and Classification Rule for Recognition in Partially Exposed\\n     Environments\".  IEEE Transactions on Pattern Analysis and Machine\\n     Intelligence, Vol. PAMI-2, No. 1, 67-71.\\n   - Gates, G.W. (1972) \"The Reduced Nearest Neighbor Rule\".  IEEE Transactions\\n     on Information Theory, May 1972, 431-433.\\n   - See also: 1988 MLC Proceedings, 54-64.  Cheeseman et al\"s AUTOCLASS II\\n     conceptual clustering system finds 3 classes in the data.\\n   - Many, many more ...',\n",
       " 'feature_names': ['sepal length (cm)',\n",
       "  'sepal width (cm)',\n",
       "  'petal length (cm)',\n",
       "  'petal width (cm)'],\n",
       " 'filename': 'iris.csv',\n",
       " 'data_module': 'sklearn.datasets.data'}"
      ]
     },
     "execution_count": 26,
     "metadata": {},
     "output_type": "execute_result"
    }
   ],
   "source": [
    "iris = datasets.load_iris()\n",
    "iris"
   ]
  },
  {
   "cell_type": "code",
   "execution_count": 27,
   "id": "e5987b68",
   "metadata": {},
   "outputs": [
    {
     "data": {
      "text/plain": [
       "['sepal length (cm)',\n",
       " 'sepal width (cm)',\n",
       " 'petal length (cm)',\n",
       " 'petal width (cm)']"
      ]
     },
     "execution_count": 27,
     "metadata": {},
     "output_type": "execute_result"
    }
   ],
   "source": [
    "iris.feature_names"
   ]
  },
  {
   "cell_type": "markdown",
   "id": "5a726f6d",
   "metadata": {},
   "source": [
    "<div dir=\"rtl\">\n",
    "150نمونه داریم\n",
    "\n",
    "    هر نمونه دارای 4 ویژگی است:\n",
    "        sepal length (cm): طول کاسبرگ\n",
    "        sepal width (cm): عرض کاسبرگ\n",
    "        petal length (cm): طول گلبرگ\n",
    "        petal width (cm): عرض گلبرگ\n",
    "\n",
    "3 کلاس مختلف:\n",
    "\n",
    "    setosa (کلاس 0): 50 نمونه\n",
    "    versicolor (کلاس 1): 50 نمونه\n",
    "    virginica (کلاس 2): 50 نمونه\n",
    "\n",
    "</div>"
   ]
  },
  {
   "cell_type": "code",
   "execution_count": 28,
   "id": "30e8301c",
   "metadata": {},
   "outputs": [
    {
     "data": {
      "text/plain": [
       "numpy.ndarray"
      ]
     },
     "execution_count": 28,
     "metadata": {},
     "output_type": "execute_result"
    }
   ],
   "source": [
    "type(iris.data)"
   ]
  },
  {
   "cell_type": "code",
   "execution_count": 29,
   "id": "a15f0768",
   "metadata": {},
   "outputs": [
    {
     "data": {
      "text/html": [
       "<div>\n",
       "<style scoped>\n",
       "    .dataframe tbody tr th:only-of-type {\n",
       "        vertical-align: middle;\n",
       "    }\n",
       "\n",
       "    .dataframe tbody tr th {\n",
       "        vertical-align: top;\n",
       "    }\n",
       "\n",
       "    .dataframe thead th {\n",
       "        text-align: right;\n",
       "    }\n",
       "</style>\n",
       "<table border=\"1\" class=\"dataframe\">\n",
       "  <thead>\n",
       "    <tr style=\"text-align: right;\">\n",
       "      <th></th>\n",
       "      <th>sepal length (cm)</th>\n",
       "      <th>sepal width (cm)</th>\n",
       "      <th>petal length (cm)</th>\n",
       "      <th>petal width (cm)</th>\n",
       "    </tr>\n",
       "  </thead>\n",
       "  <tbody>\n",
       "    <tr>\n",
       "      <th>0</th>\n",
       "      <td>5.1</td>\n",
       "      <td>3.5</td>\n",
       "      <td>1.4</td>\n",
       "      <td>0.2</td>\n",
       "    </tr>\n",
       "    <tr>\n",
       "      <th>1</th>\n",
       "      <td>4.9</td>\n",
       "      <td>3.0</td>\n",
       "      <td>1.4</td>\n",
       "      <td>0.2</td>\n",
       "    </tr>\n",
       "    <tr>\n",
       "      <th>2</th>\n",
       "      <td>4.7</td>\n",
       "      <td>3.2</td>\n",
       "      <td>1.3</td>\n",
       "      <td>0.2</td>\n",
       "    </tr>\n",
       "    <tr>\n",
       "      <th>3</th>\n",
       "      <td>4.6</td>\n",
       "      <td>3.1</td>\n",
       "      <td>1.5</td>\n",
       "      <td>0.2</td>\n",
       "    </tr>\n",
       "    <tr>\n",
       "      <th>4</th>\n",
       "      <td>5.0</td>\n",
       "      <td>3.6</td>\n",
       "      <td>1.4</td>\n",
       "      <td>0.2</td>\n",
       "    </tr>\n",
       "    <tr>\n",
       "      <th>5</th>\n",
       "      <td>5.4</td>\n",
       "      <td>3.9</td>\n",
       "      <td>1.7</td>\n",
       "      <td>0.4</td>\n",
       "    </tr>\n",
       "    <tr>\n",
       "      <th>6</th>\n",
       "      <td>4.6</td>\n",
       "      <td>3.4</td>\n",
       "      <td>1.4</td>\n",
       "      <td>0.3</td>\n",
       "    </tr>\n",
       "    <tr>\n",
       "      <th>7</th>\n",
       "      <td>5.0</td>\n",
       "      <td>3.4</td>\n",
       "      <td>1.5</td>\n",
       "      <td>0.2</td>\n",
       "    </tr>\n",
       "    <tr>\n",
       "      <th>8</th>\n",
       "      <td>4.4</td>\n",
       "      <td>2.9</td>\n",
       "      <td>1.4</td>\n",
       "      <td>0.2</td>\n",
       "    </tr>\n",
       "    <tr>\n",
       "      <th>9</th>\n",
       "      <td>4.9</td>\n",
       "      <td>3.1</td>\n",
       "      <td>1.5</td>\n",
       "      <td>0.1</td>\n",
       "    </tr>\n",
       "  </tbody>\n",
       "</table>\n",
       "</div>"
      ],
      "text/plain": [
       "   sepal length (cm)  sepal width (cm)  petal length (cm)  petal width (cm)\n",
       "0                5.1               3.5                1.4               0.2\n",
       "1                4.9               3.0                1.4               0.2\n",
       "2                4.7               3.2                1.3               0.2\n",
       "3                4.6               3.1                1.5               0.2\n",
       "4                5.0               3.6                1.4               0.2\n",
       "5                5.4               3.9                1.7               0.4\n",
       "6                4.6               3.4                1.4               0.3\n",
       "7                5.0               3.4                1.5               0.2\n",
       "8                4.4               2.9                1.4               0.2\n",
       "9                4.9               3.1                1.5               0.1"
      ]
     },
     "execution_count": 29,
     "metadata": {},
     "output_type": "execute_result"
    }
   ],
   "source": [
    "df= pd.DataFrame(iris.data, columns = iris.feature_names)\n",
    "df.head(10)"
   ]
  },
  {
   "cell_type": "code",
   "execution_count": 30,
   "id": "ab796892",
   "metadata": {},
   "outputs": [
    {
     "data": {
      "text/plain": [
       "array([0, 0, 0, 0, 0, 0, 0, 0, 0, 0, 0, 0, 0, 0, 0, 0, 0, 0, 0, 0, 0, 0,\n",
       "       0, 0, 0, 0, 0, 0, 0, 0, 0, 0, 0, 0, 0, 0, 0, 0, 0, 0, 0, 0, 0, 0,\n",
       "       0, 0, 0, 0, 0, 0, 1, 1, 1, 1, 1, 1, 1, 1, 1, 1, 1, 1, 1, 1, 1, 1,\n",
       "       1, 1, 1, 1, 1, 1, 1, 1, 1, 1, 1, 1, 1, 1, 1, 1, 1, 1, 1, 1, 1, 1,\n",
       "       1, 1, 1, 1, 1, 1, 1, 1, 1, 1, 1, 1, 2, 2, 2, 2, 2, 2, 2, 2, 2, 2,\n",
       "       2, 2, 2, 2, 2, 2, 2, 2, 2, 2, 2, 2, 2, 2, 2, 2, 2, 2, 2, 2, 2, 2,\n",
       "       2, 2, 2, 2, 2, 2, 2, 2, 2, 2, 2, 2, 2, 2, 2, 2, 2, 2])"
      ]
     },
     "execution_count": 30,
     "metadata": {},
     "output_type": "execute_result"
    }
   ],
   "source": [
    "y = iris.target\n",
    "y"
   ]
  },
  {
   "cell_type": "markdown",
   "id": "b7e48ce6",
   "metadata": {},
   "source": [
    "<div dir=\"rtl\">\n",
    "\n",
    "آموزش مدل با Decision Tree\n",
    "\n",
    "</div>"
   ]
  },
  {
   "cell_type": "code",
   "execution_count": 31,
   "id": "a4a3b48b",
   "metadata": {},
   "outputs": [
    {
     "data": {
      "text/html": [
       "<style>#sk-container-id-2 {color: black;background-color: white;}#sk-container-id-2 pre{padding: 0;}#sk-container-id-2 div.sk-toggleable {background-color: white;}#sk-container-id-2 label.sk-toggleable__label {cursor: pointer;display: block;width: 100%;margin-bottom: 0;padding: 0.3em;box-sizing: border-box;text-align: center;}#sk-container-id-2 label.sk-toggleable__label-arrow:before {content: \"▸\";float: left;margin-right: 0.25em;color: #696969;}#sk-container-id-2 label.sk-toggleable__label-arrow:hover:before {color: black;}#sk-container-id-2 div.sk-estimator:hover label.sk-toggleable__label-arrow:before {color: black;}#sk-container-id-2 div.sk-toggleable__content {max-height: 0;max-width: 0;overflow: hidden;text-align: left;background-color: #f0f8ff;}#sk-container-id-2 div.sk-toggleable__content pre {margin: 0.2em;color: black;border-radius: 0.25em;background-color: #f0f8ff;}#sk-container-id-2 input.sk-toggleable__control:checked~div.sk-toggleable__content {max-height: 200px;max-width: 100%;overflow: auto;}#sk-container-id-2 input.sk-toggleable__control:checked~label.sk-toggleable__label-arrow:before {content: \"▾\";}#sk-container-id-2 div.sk-estimator input.sk-toggleable__control:checked~label.sk-toggleable__label {background-color: #d4ebff;}#sk-container-id-2 div.sk-label input.sk-toggleable__control:checked~label.sk-toggleable__label {background-color: #d4ebff;}#sk-container-id-2 input.sk-hidden--visually {border: 0;clip: rect(1px 1px 1px 1px);clip: rect(1px, 1px, 1px, 1px);height: 1px;margin: -1px;overflow: hidden;padding: 0;position: absolute;width: 1px;}#sk-container-id-2 div.sk-estimator {font-family: monospace;background-color: #f0f8ff;border: 1px dotted black;border-radius: 0.25em;box-sizing: border-box;margin-bottom: 0.5em;}#sk-container-id-2 div.sk-estimator:hover {background-color: #d4ebff;}#sk-container-id-2 div.sk-parallel-item::after {content: \"\";width: 100%;border-bottom: 1px solid gray;flex-grow: 1;}#sk-container-id-2 div.sk-label:hover label.sk-toggleable__label {background-color: #d4ebff;}#sk-container-id-2 div.sk-serial::before {content: \"\";position: absolute;border-left: 1px solid gray;box-sizing: border-box;top: 0;bottom: 0;left: 50%;z-index: 0;}#sk-container-id-2 div.sk-serial {display: flex;flex-direction: column;align-items: center;background-color: white;padding-right: 0.2em;padding-left: 0.2em;position: relative;}#sk-container-id-2 div.sk-item {position: relative;z-index: 1;}#sk-container-id-2 div.sk-parallel {display: flex;align-items: stretch;justify-content: center;background-color: white;position: relative;}#sk-container-id-2 div.sk-item::before, #sk-container-id-2 div.sk-parallel-item::before {content: \"\";position: absolute;border-left: 1px solid gray;box-sizing: border-box;top: 0;bottom: 0;left: 50%;z-index: -1;}#sk-container-id-2 div.sk-parallel-item {display: flex;flex-direction: column;z-index: 1;position: relative;background-color: white;}#sk-container-id-2 div.sk-parallel-item:first-child::after {align-self: flex-end;width: 50%;}#sk-container-id-2 div.sk-parallel-item:last-child::after {align-self: flex-start;width: 50%;}#sk-container-id-2 div.sk-parallel-item:only-child::after {width: 0;}#sk-container-id-2 div.sk-dashed-wrapped {border: 1px dashed gray;margin: 0 0.4em 0.5em 0.4em;box-sizing: border-box;padding-bottom: 0.4em;background-color: white;}#sk-container-id-2 div.sk-label label {font-family: monospace;font-weight: bold;display: inline-block;line-height: 1.2em;}#sk-container-id-2 div.sk-label-container {text-align: center;}#sk-container-id-2 div.sk-container {/* jupyter's `normalize.less` sets `[hidden] { display: none; }` but bootstrap.min.css set `[hidden] { display: none !important; }` so we also need the `!important` here to be able to override the default hidden behavior on the sphinx rendered scikit-learn.org. See: https://github.com/scikit-learn/scikit-learn/issues/21755 */display: inline-block !important;position: relative;}#sk-container-id-2 div.sk-text-repr-fallback {display: none;}</style><div id=\"sk-container-id-2\" class=\"sk-top-container\"><div class=\"sk-text-repr-fallback\"><pre>DecisionTreeClassifier()</pre><b>In a Jupyter environment, please rerun this cell to show the HTML representation or trust the notebook. <br />On GitHub, the HTML representation is unable to render, please try loading this page with nbviewer.org.</b></div><div class=\"sk-container\" hidden><div class=\"sk-item\"><div class=\"sk-estimator sk-toggleable\"><input class=\"sk-toggleable__control sk-hidden--visually\" id=\"sk-estimator-id-2\" type=\"checkbox\" checked><label for=\"sk-estimator-id-2\" class=\"sk-toggleable__label sk-toggleable__label-arrow\">DecisionTreeClassifier</label><div class=\"sk-toggleable__content\"><pre>DecisionTreeClassifier()</pre></div></div></div></div></div>"
      ],
      "text/plain": [
       "DecisionTreeClassifier()"
      ]
     },
     "execution_count": 31,
     "metadata": {},
     "output_type": "execute_result"
    }
   ],
   "source": [
    "from sklearn.tree import DecisionTreeClassifier\n",
    "\n",
    "dtree = DecisionTreeClassifier()\n",
    "dtree.fit(df, y)"
   ]
  },
  {
   "cell_type": "code",
   "execution_count": 32,
   "id": "0421303b",
   "metadata": {},
   "outputs": [
    {
     "name": "stderr",
     "output_type": "stream",
     "text": [
      "c:\\Users\\caspian1\\anaconda3\\envs\\mlqrera\\Lib\\site-packages\\sklearn\\base.py:450: UserWarning: X does not have valid feature names, but DecisionTreeClassifier was fitted with feature names\n",
      "  warnings.warn(\n"
     ]
    },
    {
     "data": {
      "text/plain": [
       "array([0, 2])"
      ]
     },
     "execution_count": 32,
     "metadata": {},
     "output_type": "execute_result"
    }
   ],
   "source": [
    "dtree.predict([\n",
    "[1.1, 1.8, 1.2, 0.2], \n",
    "[8.1, 2.1, 2.5, 2.9]   \n",
    "     \n",
    "])"
   ]
  },
  {
   "cell_type": "markdown",
   "id": "b2c9878f",
   "metadata": {},
   "source": [
    "تحلیل نتایج:\n",
    "\n",
    "    نمونه اول: پیش‌بینی کلاس 0 (setosa)\n",
    "    نمونه دوم: پیش‌بینی کلاس 2 (virginica)"
   ]
  },
  {
   "cell_type": "code",
   "execution_count": null,
   "id": "32a2428a",
   "metadata": {},
   "outputs": [],
   "source": []
  }
 ],
 "metadata": {
  "kernelspec": {
   "display_name": "mlqrera",
   "language": "python",
   "name": "python3"
  },
  "language_info": {
   "codemirror_mode": {
    "name": "ipython",
    "version": 3
   },
   "file_extension": ".py",
   "mimetype": "text/x-python",
   "name": "python",
   "nbconvert_exporter": "python",
   "pygments_lexer": "ipython3",
   "version": "3.11.10"
  }
 },
 "nbformat": 4,
 "nbformat_minor": 5
}
